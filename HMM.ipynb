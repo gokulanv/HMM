{
 "cells": [
  {
   "cell_type": "code",
   "execution_count": 1,
   "metadata": {},
   "outputs": [],
   "source": [
    "import pandas as pd\n",
    "import numpy as np"
   ]
  },
  {
   "cell_type": "code",
   "execution_count": 2,
   "metadata": {},
   "outputs": [],
   "source": [
    "pi_1 = [0,1,0,0]\n",
    "o_states = ['S', 'A', 'B', 'C', 'D']\n",
    "h_states = [1,2,3,4]\n",
    "dim_h = 4\n",
    "A_1_df = pd.DataFrame(columns=h_states, index=h_states)\n",
    "A_1_df.loc[h_states[0]] = [1,0,0,0]\n",
    "A_1_df.loc[h_states[1]] = [0,0,0,1]\n",
    "A_1_df.loc[h_states[2]] = [0,0.4,0.3,0.3]\n",
    "A_1_df.loc[h_states[3]] = [0.3,0.2,0.2,0.3]\n",
    "\n",
    "B_1_df = pd.DataFrame(columns=o_states, index=h_states)\n",
    "B_1_df.loc[h_states[0]] = [1,0,0,0,0]\n",
    "B_1_df.loc[h_states[1]] = [0,0.5,0.5,0,0]\n",
    "B_1_df.loc[h_states[2]] = [0,0.2,0.2,0.3,0.3]\n",
    "B_1_df.loc[h_states[3]] = [0,0,0,0.5,0.5]\n"
   ]
  },
  {
   "cell_type": "code",
   "execution_count": 3,
   "metadata": {},
   "outputs": [],
   "source": [
    "pi_2 = [0,0,0,1]\n",
    "dim_h = 4\n",
    "A_2_df = pd.DataFrame(columns=h_states, index=h_states)\n",
    "A_2_df.loc[h_states[0]] = [1,0,0,0]\n",
    "A_2_df.loc[h_states[1]] = [0.1,0.3,0.5,0.1]\n",
    "A_2_df.loc[h_states[2]] = [0.1,0.4,0.3,0.2]\n",
    "A_2_df.loc[h_states[3]] = [0.1,0.4,0.2,0.3]\n",
    "\n",
    "B_2_df = pd.DataFrame(columns=o_states, index=h_states)\n",
    "B_2_df.loc[h_states[0]] = [1,0,0,0,0]\n",
    "B_2_df.loc[h_states[1]] = [0,0,0.5,0,0.5]\n",
    "B_2_df.loc[h_states[2]] = [0,0,0.5,0.5,0]\n",
    "B_2_df.loc[h_states[3]] = [0,0.5,0,0,0.5]\n"
   ]
  },
  {
   "cell_type": "code",
   "execution_count": 4,
   "metadata": {},
   "outputs": [
    {
     "name": "stdout",
     "output_type": "stream",
     "text": [
      "Generated Sequences are::\n",
      "['B', 'D', 'S']\n",
      "['A', 'D', 'A', 'D', 'S']\n",
      "['A', 'D', 'B', 'C', 'C', 'B', 'D', 'B', 'C', 'B', 'C', 'S']\n",
      "['B', 'D', 'S']\n",
      "['B', 'D', 'C', 'S']\n",
      "['B', 'C', 'S']\n",
      "['A', 'D', 'B', 'C', 'D', 'A', 'B', 'B', 'D', 'B', 'D', 'A', 'D', 'B', 'D', 'D', 'C', 'S']\n",
      "['B', 'C', 'D', 'S']\n",
      "['A', 'C', 'B', 'C', 'A', 'C', 'D', 'D', 'C', 'B', 'D', 'D', 'C', 'B', 'D', 'B', 'C', 'S']\n",
      "['A', 'C', 'D', 'B', 'C', 'D', 'S']\n",
      "['A', 'D', 'D', 'A', 'D', 'S']\n"
     ]
    }
   ],
   "source": [
    "generated_sequence = []\n",
    "hidden_states_sequence = []\n",
    "gen_observations = []\n",
    "hidden_states = []\n",
    "number_states_map = {\n",
    "    '1': 'S',\n",
    "    '2': 'A',\n",
    "    '3': 'B',\n",
    "    '4': 'C',\n",
    "    '5': 'D'\n",
    "}\n",
    "\n",
    "q1_index = np.random.choice(np.nonzero(pi_1)[0])\n",
    "q1 = pi_1[q1_index]\n",
    "\n",
    "def get_observation(q):\n",
    "    observation_state = np.random.choice(np.nonzero(np.asarray(B_1_df.iloc[q]))[0])\n",
    "    return observation_state, B_1_df.iloc[q][observation_state] == 1\n",
    "\n",
    "def get_transition_state(q):\n",
    "    return np.random.choice(np.nonzero(np.asarray(A_1_df.iloc[q]))[0])\n",
    "\n",
    "q = q1\n",
    "stop_state_reached = False\n",
    "no_of_observations = 0\n",
    "\n",
    "while no_of_observations <= 10:\n",
    "    generated_sequence = []\n",
    "    hidden_states_sequence = [q1+1]\n",
    "    q = q1\n",
    "    stop_state_reached = False\n",
    "    \n",
    "    while not stop_state_reached:\n",
    "        o, stop_state_reached = get_observation(q)\n",
    "        q = get_transition_state(q)\n",
    "        generated_sequence.append(number_states_map[str(o+1)])\n",
    "        hidden_states_sequence.append(q+1)\n",
    "        \n",
    "    gen_observations.append(generated_sequence)\n",
    "    hidden_states.append(hidden_states_sequence)\n",
    "    no_of_observations = no_of_observations + 1\n",
    "\n",
    "print(\"Generated Sequences are::\")\n",
    "for obs in gen_observations:\n",
    "    print(obs)"
   ]
  },
  {
   "cell_type": "code",
   "execution_count": 5,
   "metadata": {},
   "outputs": [],
   "source": [
    "def hmm_forward(transition_prob_matrix, emission_matrix, priors, obs_seq):\n",
    "    T = len(obs_seq)\n",
    "    N = len(priors)\n",
    "    \n",
    "    alpha = np.zeros((N, T))\n",
    "    alpha[:,0] = priors * emission_matrix[obs_seq[0]]\n",
    "\n",
    "    for t in range(1,T):\n",
    "        for j in range(N):\n",
    "            for i in range(N):\n",
    "                alpha[j, t] += transition_prob_matrix.values[i][j] * emission_matrix.iloc[j][obs_seq[t]] * alpha[i][t-1]\n",
    "                \n",
    "    return alpha, np.sum(alpha[:,T-1])"
   ]
  },
  {
   "cell_type": "code",
   "execution_count": 6,
   "metadata": {},
   "outputs": [
    {
     "name": "stdout",
     "output_type": "stream",
     "text": [
      "3.762855e-05 8.53125e-06\n",
      "lambda 1\n",
      "0.075 0.0\n",
      "lambda 1\n",
      "3.98671632e-06 0.0\n",
      "lambda 1\n",
      "0.01125 0.0015000000000000005\n",
      "lambda 1\n",
      "0.0042 0.00016250000000000002\n",
      "lambda 1\n",
      "0.0 0.005750000000000001\n",
      "lambda_2\n",
      "0.0 0.015000000000000003\n",
      "lambda_2\n",
      "0.0 1.4033509570312503e-12\n",
      "lambda_2\n",
      "0.0 0.0035000000000000005\n",
      "lambda_2\n",
      "0.0 3.8390625e-06\n",
      "lambda_2\n"
     ]
    }
   ],
   "source": [
    "observations = [\n",
    "    ['A','D','C','B','D','C','C','S'],\n",
    "    ['B','D','S'],\n",
    "    ['B','C','C','B','D','D','C','A','C','S'],\n",
    "    ['A','C','D','S'],\n",
    "    ['A','D','A','C','S'],\n",
    "    ['D','B','B','S'],\n",
    "    ['A','B','S'],\n",
    "    ['D','D','B','D','D','B','A','C','C','D','A','B','B','C','D','B','B','B','S'],\n",
    "    ['D','B','D','S'],\n",
    "    ['A','A','A','A','D','C','B','S'],\n",
    "]\n",
    "\n",
    "for obs in observations:\n",
    "    p1, p_lambda1 = hmm_forward(A_1_df, B_1_df, pi_1, obs)\n",
    "    p2, p_lambda2 = hmm_forward(A_2_df, B_2_df, pi_2, obs)\n",
    "    print(p_lambda1, p_lambda2)\n",
    "    if(p_lambda1 > p_lambda2):\n",
    "        print(\"lambda 1\")\n",
    "    else:\n",
    "        print(\"lambda_2\")"
   ]
  },
  {
   "cell_type": "markdown",
   "metadata": {},
   "source": [
    "## For testing sequences generated:"
   ]
  },
  {
   "cell_type": "code",
   "execution_count": 7,
   "metadata": {},
   "outputs": [
    {
     "name": "stdout",
     "output_type": "stream",
     "text": [
      "0.075 0.0\n",
      "lambda 1\n",
      "0.0042 0.00056875\n",
      "lambda 1\n",
      "2.648882184120001e-07 8.242910156250002e-08\n",
      "lambda 1\n",
      "0.075 0.0\n",
      "lambda 1\n",
      "0.01125 0.0\n",
      "lambda 1\n",
      "0.075 0.0\n",
      "lambda 1\n",
      "2.3236294660771974e-12 1.0746817382812503e-11\n",
      "lambda_2\n",
      "0.01125 0.0\n",
      "lambda 1\n",
      "4.60433887360169e-11 1.3904707031250003e-12\n",
      "lambda 1\n",
      "0.000177795 3.225000000000001e-05\n",
      "lambda 1\n",
      "0.0011205 0.00013781250000000002\n",
      "lambda 1\n"
     ]
    }
   ],
   "source": [
    "for obs in gen_observations:\n",
    "    p1, p_lambda1 = hmm_forward(A_1_df, B_1_df, pi_1, obs)\n",
    "    p2, p_lambda2 = hmm_forward(A_2_df, B_2_df, pi_2, obs)\n",
    "    print(p_lambda1, p_lambda2)\n",
    "    if(p_lambda1 > p_lambda2):\n",
    "        print(\"lambda 1\")\n",
    "    else:\n",
    "        print(\"lambda_2\")"
   ]
  },
  {
   "cell_type": "markdown",
   "metadata": {},
   "source": [
    "## Viterbi Algorithm\n",
    "\n",
    "HMM Viterbi algorithm to identify hidden states given the observation sequence"
   ]
  },
  {
   "cell_type": "code",
   "execution_count": 8,
   "metadata": {},
   "outputs": [],
   "source": [
    "def hmm_viterbi(transition_prob_matrix, emission_matrix, priors, observations):\n",
    "    T = len(observations)\n",
    "    N = len(priors)\n",
    "    \n",
    "    delta = np.zeros((T, N))\n",
    "    xi = np.zeros((T, N), 'int')\n",
    "    \n",
    "    delta[0, :] = priors * emission_matrix[observations[0]]\n",
    "    \n",
    "    for t in range(1, T):\n",
    "        for j in range(N):\n",
    "            maxP = -999\n",
    "            idx = -1\n",
    "            for i in range(N):\n",
    "                temp = delta[t-1][i] * transition_prob_matrix.values[i][j] * emission_matrix.iloc[j][observations[t]]\n",
    "                if temp > maxP:\n",
    "                    maxP = temp\n",
    "                    idx = i\n",
    "                delta[t][j] = maxP\n",
    "                xi[t][j] = idx\n",
    "    \n",
    "    state_seq = []\n",
    "    state_seq.append(np.argmax(delta[T-1,:]))\n",
    "    for i in range(T-1, 0, -1):\n",
    "        state_seq.append(xi[i, state_seq[-1]])\n",
    "    state_seq = state_seq[::-1]\n",
    "    for i in range(len(state_seq)):\n",
    "        state_seq[i] = state_seq[i]+1\n",
    "        \n",
    "    return state_seq"
   ]
  },
  {
   "cell_type": "code",
   "execution_count": 9,
   "metadata": {},
   "outputs": [
    {
     "name": "stdout",
     "output_type": "stream",
     "text": [
      "['A', 'D', 'C', 'B', 'D', 'C', 'C', 'S']\n",
      "Hidden states sequence::\n",
      "[4, 2, 3, 2, 2, 3, 3, 1]\n",
      "-------------------------------------\n",
      "['B', 'D', 'S']\n",
      "Hidden states sequence::\n",
      "[1, 1, 1]\n",
      "-------------------------------------\n",
      "['B', 'C', 'C', 'B', 'D', 'D', 'C', 'A', 'C', 'S']\n",
      "Hidden states sequence::\n",
      "[1, 1, 1, 1, 1, 1, 1, 1, 1, 1]\n",
      "-------------------------------------\n",
      "['A', 'C', 'D', 'S']\n",
      "Hidden states sequence::\n",
      "[4, 3, 2, 1]\n",
      "-------------------------------------\n",
      "['A', 'D', 'A', 'C', 'S']\n",
      "Hidden states sequence::\n",
      "[4, 4, 4, 3, 1]\n",
      "-------------------------------------\n",
      "['D', 'B', 'B', 'S']\n",
      "Hidden states sequence::\n",
      "[4, 2, 3, 1]\n",
      "-------------------------------------\n",
      "['A', 'B', 'S']\n",
      "Hidden states sequence::\n",
      "[4, 2, 1]\n",
      "-------------------------------------\n",
      "['D', 'D', 'B', 'D', 'D', 'B', 'A', 'C', 'C', 'D', 'A', 'B', 'B', 'C', 'D', 'B', 'B', 'B', 'S']\n",
      "Hidden states sequence::\n",
      "[4, 2, 3, 2, 2, 3, 4, 3, 3, 4, 4, 2, 2, 3, 2, 3, 2, 3, 1]\n",
      "-------------------------------------\n",
      "['D', 'B', 'D', 'S']\n",
      "Hidden states sequence::\n",
      "[4, 2, 2, 1]\n",
      "-------------------------------------\n",
      "['A', 'A', 'A', 'A', 'D', 'C', 'B', 'S']\n",
      "Hidden states sequence::\n",
      "[4, 4, 4, 4, 2, 3, 2, 1]\n",
      "-------------------------------------\n"
     ]
    }
   ],
   "source": [
    "observations = [\n",
    "    ['A','D','C','B','D','C','C','S'],\n",
    "    ['B','D','S'],\n",
    "    ['B','C','C','B','D','D','C','A','C','S'],\n",
    "    ['A','C','D','S'],\n",
    "    ['A','D','A','C','S'],\n",
    "    ['D','B','B','S'],\n",
    "    ['A','B','S'],\n",
    "    ['D','D','B','D','D','B','A','C','C','D','A','B','B','C','D','B','B','B','S'],\n",
    "    ['D','B','D','S'],\n",
    "    ['A','A','A','A','D','C','B','S'],\n",
    "]\n",
    "\n",
    "for obs in observations:\n",
    "    print(obs)\n",
    "    print(\"Hidden states sequence::\")\n",
    "    print(hmm_viterbi(A_2_df,B_2_df,pi_2,obs))\n",
    "    print(\"-------------------------------------\")"
   ]
  },
  {
   "cell_type": "code",
   "execution_count": null,
   "metadata": {},
   "outputs": [],
   "source": []
  }
 ],
 "metadata": {
  "kernelspec": {
   "display_name": "Python 3",
   "language": "python",
   "name": "python3"
  },
  "language_info": {
   "codemirror_mode": {
    "name": "ipython",
    "version": 3
   },
   "file_extension": ".py",
   "mimetype": "text/x-python",
   "name": "python",
   "nbconvert_exporter": "python",
   "pygments_lexer": "ipython3",
   "version": "3.7.3"
  }
 },
 "nbformat": 4,
 "nbformat_minor": 2
}
